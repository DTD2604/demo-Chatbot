{
 "cells": [
  {
   "metadata": {
    "ExecuteTime": {
     "end_time": "2025-04-22T08:55:16.760523Z",
     "start_time": "2025-04-22T08:55:15.779343Z"
    }
   },
   "cell_type": "code",
   "source": [
    "import os\n",
    "from langchain_google_genai import ChatGoogleGenerativeAI\n",
    "from dotenv import load_dotenv\n",
    "\n",
    "load_dotenv()\n",
    "llm = ChatGoogleGenerativeAI(\n",
    "    model=\"gemini-2.0-flash\",\n",
    "    temperature=1,\n",
    "    google_api_key=os.getenv(\"GEMINI_API_KEY\")\n",
    ")"
   ],
   "id": "a46a22c766340cf8",
   "outputs": [],
   "execution_count": 1
  },
  {
   "metadata": {
    "ExecuteTime": {
     "end_time": "2025-04-22T08:55:18.769621Z",
     "start_time": "2025-04-22T08:55:18.638204Z"
    }
   },
   "cell_type": "code",
   "source": [
    "from pymongo import MongoClient\n",
    "CURRENT_USER_ID=\"67e2862197578c4000ede9f7\"\n",
    "\n",
    "# Kết nối MongoDB\n",
    "mongo_client = MongoClient(os.getenv(\"MONGO_URI\"))\n",
    "db = mongo_client[\"sgtm\"]\n",
    "\n",
    "users_collection = db[\"users\"]\n",
    "schedules_collection = db[\"schedules\"]"
   ],
   "id": "d27b5acccf1fd273",
   "outputs": [],
   "execution_count": 2
  },
  {
   "metadata": {
    "ExecuteTime": {
     "end_time": "2025-04-22T09:01:48.485997Z",
     "start_time": "2025-04-22T09:01:48.468535Z"
    }
   },
   "cell_type": "code",
   "source": [
    "import json\n",
    "from datetime import datetime\n",
    "\n",
    "# hàm lấy thông tin collection\n",
    "def get_schema():\n",
    "    sample_doc = schedules_collection.find_one()\n",
    "    if sample_doc:\n",
    "        # Lấy các trường dữ liệu và format ngày nếu có\n",
    "        fields = []\n",
    "        for k, v in sample_doc.items():\n",
    "            if k != \"_id\":\n",
    "                # Kiểm tra xem giá trị có phải là một ngày tháng không\n",
    "                if isinstance(v, str) and \"-\" in v:  # Nếu là chuỗi ngày tháng (kiểu \"yyyy-mm-dd\")\n",
    "                    try:\n",
    "                        # Chuyển đổi ngày theo định dạng yyyy-mmm-ddd\n",
    "                        formatted_date = datetime.strptime(v, \"%Y-%m-%d\")\n",
    "                        fields.append(f\"{k}: {formatted_date}\")\n",
    "                    except ValueError:\n",
    "                        fields.append(f\"{k}: {v}\")  # Nếu không phải ngày tháng hợp lệ thì giữ nguyên giá trị\n",
    "                else:\n",
    "                    fields.append(f\"{k}: {type(v).__name__}\")\n",
    "\n",
    "        return f\"Collection: {schedules_collection.name}\\nFields: {', '.join(fields)}\"\n",
    "    return \"No schema found\"\n",
    "get_schema()\n",
    "\n",
    "# Hàm để chuyển đổi các giá trị không tuần tự hóa được (ObjectId, datetime)\n",
    "def convert_mongo_types(value):\n",
    "    if isinstance(value, datetime):\n",
    "        return value.strftime(\"%Y-%m-%d %H:%M:%S\")\n",
    "    return value\n",
    "\n",
    "# Hàm lấy thông tin người dùng\n",
    "def get_user_info():\n",
    "    user_info = users_collection.find_one({\"_id\": CURRENT_USER_ID})\n",
    "    if user_info:\n",
    "        # Xử lý chuyển đổi toàn bộ dict\n",
    "        clean_info = {k: convert_mongo_types(v) for k, v in user_info.items()}\n",
    "        # Bỏ những trường nhạy cảm như password\n",
    "        clean_info.pop(\"password\", None)\n",
    "        return json.dumps(clean_info, indent=2, ensure_ascii=False)\n",
    "    return \"No user info found\"\n",
    "print(get_user_info())"
   ],
   "id": "7eeee8dacd54bf3d",
   "outputs": [
    {
     "name": "stdout",
     "output_type": "stream",
     "text": [
      "{\n",
      "  \"_id\": \"67e2862197578c4000ede9f7\",\n",
      "  \"fullName\": \"do\",\n",
      "  \"birthday\": \"1990-01-01\",\n",
      "  \"email\": \"thangdo@gmail.com\",\n",
      "  \"phone\": \"0978645132\",\n",
      "  \"gender\": \"MALE\",\n",
      "  \"hobbies\": \"hh\",\n",
      "  \"roles\": [\n",
      "    \"USER\",\n",
      "    \"ADMIN\"\n",
      "  ],\n",
      "  \"createdAt\": \"2025-03-25 10:32:01\",\n",
      "  \"_class\": \"users\",\n",
      "  \"occupation\": \"IT\"\n",
      "}\n"
     ]
    }
   ],
   "execution_count": 5
  },
  {
   "metadata": {
    "ExecuteTime": {
     "end_time": "2025-04-22T09:07:10.456452Z",
     "start_time": "2025-04-22T09:07:10.452750Z"
    }
   },
   "cell_type": "code",
   "source": [
    "from langchain_core.prompts import ChatPromptTemplate\n",
    "\n",
    "# prompt tạo query theo câu hỏi của người dùng\n",
    "query_prompt = ChatPromptTemplate.from_template(\"\"\"\n",
    "Given the MongoDB schema below, generate the filter part of a MongoDB `find()` query in Python dictionary format that answers the user's question.\n",
    "\n",
    "The `date` field should be in the format 'YYYY-MM-DD'.\n",
    "\n",
    "Schema:\n",
    "{schema}\n",
    "\n",
    "Question:\n",
    "{question}\n",
    "\n",
    "Return only the Python dictionary for the query filter, with no additional formatting, explanations, or backticks.\n",
    "Ensure the 'date' is in the format 'YYYY-MM-DD'.\n",
    "MongoDB Query Filter:\n",
    "\"\"\")"
   ],
   "id": "3a98549770bc22ef",
   "outputs": [],
   "execution_count": 12
  },
  {
   "metadata": {
    "ExecuteTime": {
     "end_time": "2025-04-22T09:07:12.567976Z",
     "start_time": "2025-04-22T09:07:12.565131Z"
    }
   },
   "cell_type": "code",
   "source": [
    "from langchain_core.output_parsers import StrOutputParser\n",
    "from langchain_core.runnables import RunnablePassthrough\n",
    "\n",
    "#chain prompt tạo query\n",
    "def build_query_chain():\n",
    "    return (\n",
    "        RunnablePassthrough.assign(schema=lambda _: get_schema())\n",
    "        | query_prompt\n",
    "        | llm.bind(stop=[\"\\nResult:\"])\n",
    "        | StrOutputParser()\n",
    "    )"
   ],
   "id": "65cb9c3974a6a785",
   "outputs": [],
   "execution_count": 13
  },
  {
   "metadata": {
    "ExecuteTime": {
     "end_time": "2025-04-22T09:07:15.635381Z",
     "start_time": "2025-04-22T09:07:14.858691Z"
    }
   },
   "cell_type": "code",
   "source": [
    "#ví dụ tạo query theo câu hỏi\n",
    "response = build_query_chain().invoke({\"question\": \"lúc 13:46:00 ngày 3/4 có sự kiện gì không\"})\n",
    "print(response)"
   ],
   "id": "987cbf59bb08bab7",
   "outputs": [
    {
     "name": "stdout",
     "output_type": "stream",
     "text": [
      "{'date': '2025-04-03', 'startTime': '13:46:00'}\n"
     ]
    }
   ],
   "execution_count": 14
  },
  {
   "metadata": {
    "ExecuteTime": {
     "end_time": "2025-04-22T09:02:19.293968Z",
     "start_time": "2025-04-22T09:02:19.283226Z"
    }
   },
   "cell_type": "code",
   "source": [
    "from ast import literal_eval\n",
    "\n",
    "# hàm chạy query\n",
    "def run_query(query_code: str):\n",
    "    try:\n",
    "        query_dict = literal_eval(query_code)\n",
    "        result = schedules_collection.find(query_dict)\n",
    "        return list(result)\n",
    "    except Exception as e:\n",
    "        return f\"Error running query: {str(e)}\"\n",
    "response = run_query(\"{'date': {'$regex': '^3/', '$options': 'i'}}\")\n",
    "print(response)"
   ],
   "id": "404c030b5303c84a",
   "outputs": [
    {
     "name": "stdout",
     "output_type": "stream",
     "text": [
      "[]\n"
     ]
    }
   ],
   "execution_count": 9
  },
  {
   "metadata": {},
   "cell_type": "code",
   "outputs": [],
   "execution_count": null,
   "source": [
    "# prompt main\n",
    "response_prompt = ChatPromptTemplate.from_template(\"\"\"\n",
    "Bạn là trợ lý AI chuyên hỗ trợ người dùng lên lịch trình cá nhân và trả lời các câu hỏi liên quan đến dữ liệu của họ.\n",
    "\n",
    "🎯 Mục tiêu chính:\n",
    "- Trả lời tự nhiên, thân thiện, đúng trọng tâm, câu văn cần đầy đủ chủ ngữ vị ngữ.\n",
    "- Khi người dùng yêu cầu **gợi ý lịch trình**, hãy tạo kế hoạch hợp lý trong ngày, tuân thủ các nguyên tắc sau:\n",
    "\n",
    "🧩 Quy tắc tạo lịch trình:\n",
    "- Giới hạn trong khung giờ 07:00–23:00.\n",
    "- Nếu chỉ yêu cầu **một hoạt động**, chỉ trả về đúng **một gợi ý**, không phải cả lịch trình.\n",
    "- Không cần chào hỏi đầu câu, trả lời thẳng vào lịch trình.\n",
    "- Gộp thời gian theo khung dài hợp lý, không chia nhỏ quá (VD: 07:30–11:45 | Làm việc tập trung).\n",
    "- Luôn có ít nhất một khung **tập thể dục** (VD: 17:30–19:30).\n",
    "- Trả về theo định dạng sau:\n",
    "\n",
    "🗓 Lịch trình ngày [ngày/tháng/năm]\n",
    "[Giờ bắt đầu] - [Giờ kết thúc] | [Tên hoạt động] → [Mô tả]\n",
    "...\n",
    "Kết thúc bằng câu: “Bạn có thấy lịch trình này phù hợp không?”\n",
    "\n",
    "📌 Luật trả lời dữ liệu:\n",
    "- Nếu người dùng hỏi về thông tin cá nhân (tên, ngày sinh, nghề nghiệp, email,...), hãy sử dụng thông tin có sẵn từ dữ liệu cá nhân.\n",
    "- Nếu người dùng yêu cầu thông tin liên quan đến lịch trình hoặc các dữ liệu từ MongoDB, sử dụng kết quả truy vấn MongoDB để trả lời.\n",
    "\n",
    "*lưu ý quan trọng*:\n",
    "⏰ Thời gian hiện tại: {current_time}\n",
    "\n",
    "Thông tin có sẵn:\n",
    "User Info: {user_info}\n",
    "Schema: {schema}\n",
    "MongoDB Query: {query}\n",
    "Query Response: {response}\n",
    "\n",
    "Yêu cầu người dùng:\n",
    "{question}\n",
    "\n",
    "✍️ Trả lời:\n",
    "\"\"\")\n"
   ],
   "id": "207b2958c462ba8e"
  },
  {
   "metadata": {},
   "cell_type": "code",
   "outputs": [],
   "execution_count": null,
   "source": [
    "from datetime import datetime\n",
    "\n",
    "# chain chính\n",
    "def build_full_chain():\n",
    "    query_chain = build_query_chain()\n",
    "    return (\n",
    "        RunnablePassthrough.assign(query=query_chain)\n",
    "        .assign(\n",
    "            user_info=lambda _: get_user_info(),  # Trả về dưới dạng string nếu cần\n",
    "            schema=lambda _: get_schema(),\n",
    "            response=lambda vars: run_query(vars[\"query\"]),\n",
    "            current_time=lambda _: datetime.now().strftime(\"%d/%m/%Y %H:%M\")\n",
    "        )\n",
    "        | response_prompt\n",
    "        | llm\n",
    "    )\n"
   ],
   "id": "b0ec1ba6b4c14811"
  },
  {
   "metadata": {},
   "cell_type": "code",
   "outputs": [],
   "execution_count": null,
   "source": [
    "schedules_chain = build_full_chain()\n",
    "\n",
    "#ví dụ\n",
    "question2 = \"tháng 4 có lịch đi chơi nào không\"\n",
    "print(schedules_chain.invoke({\"question\": question2}).content)\n"
   ],
   "id": "2a675a14708e2413"
  }
 ],
 "metadata": {
  "kernelspec": {
   "display_name": "Python 3",
   "language": "python",
   "name": "python3"
  },
  "language_info": {
   "codemirror_mode": {
    "name": "ipython",
    "version": 2
   },
   "file_extension": ".py",
   "mimetype": "text/x-python",
   "name": "python",
   "nbconvert_exporter": "python",
   "pygments_lexer": "ipython2",
   "version": "2.7.6"
  }
 },
 "nbformat": 4,
 "nbformat_minor": 5
}
